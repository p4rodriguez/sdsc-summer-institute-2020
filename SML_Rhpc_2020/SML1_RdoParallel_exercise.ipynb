{
 "cells": [
  {
   "cell_type": "markdown",
   "metadata": {},
   "source": [
    "# SML1 doParallel exercise"
   ]
  },
  {
   "cell_type": "raw",
   "metadata": {},
   "source": [
    "Goal: Test foreach process, at the same time monitor memory usage\n",
    "\n",
    "Part 1\n",
    "Steps: After starting a notebook, before running these cells, in terminal window enter:\n",
    "   squeue -u $USER\n",
    "   ssh comet-##-## \n",
    "   top -u $USER      \n",
    "  \n",
    "Then run these cells, during the foreach execution check the top command listing to see memory and thread usage\n",
    "\n",
    "Part 2 change the N,P variables below to change memory usage\n",
    "Part 3 change the number of loop iterations from 12 to 24 - be careful not to crash the node!\n"
   ]
  },
  {
   "cell_type": "code",
   "execution_count": 1,
   "metadata": {},
   "outputs": [
    {
     "name": "stderr",
     "output_type": "stream",
     "text": [
      "Loading required package: foreach\n",
      "\n",
      "Loading required package: iterators\n",
      "\n",
      "Loading required package: parallel\n",
      "\n"
     ]
    },
    {
     "name": "stdout",
     "output_type": "stream",
     "text": [
      "[1] \"starting dopar test\"\n"
     ]
    }
   ],
   "source": [
    "#This should not be needed\n",
    "#install.packages('doParallel',repos=\"http://cran.r-project.org\", lib=\"~/\")\n",
    "library(doParallel)\n",
    "registerDoParallel(cores=24) \n",
    "print('starting dopar test')\n",
    "\n"
   ]
  },
  {
   "cell_type": "code",
   "execution_count": 6,
   "metadata": {},
   "outputs": [
    {
     "name": "stdout",
     "output_type": "stream",
     "text": [
      "[1] \"X size is: 14.9 Gb\"\n"
     ]
    }
   ],
   "source": [
    "# EXERCISE 1 Make up some random data and list out the object sizes\n",
    "\n",
    "#Step 1 start with small N and P, run this cell and next cell\n",
    "\n",
    "#Step 2 increase N or P by factor of 10 and try again; repeat\n",
    "N=1000000;      #N rows start with say 1000\n",
    "P=2000;       #P columns  200 for start\n",
    "\n",
    "#make random data with 1 column and 1 coeffient non-zero means\n",
    "X     =matrix(rnorm(N*P),N,P)\n",
    "X[,1] =X[,1]+1              \n",
    "B     =matrix(rnorm(P),P,1)\n",
    "B[1]  =5\n",
    "Y     =X %*% B +  0.1*matrix(rnorm(N),N,1)           \n",
    "\n",
    "\n",
    "print(paste(\"X size is:\",format(object.size(get('X')),unit='auto'))) #print size of X\n"
   ]
  },
  {
   "cell_type": "code",
   "execution_count": 7,
   "metadata": {
    "scrolled": true
   },
   "outputs": [],
   "source": [
    "# ------------- EXERCISE 1 ------------------------\n",
    "ptm <- proc.time()               #get time stamp\n",
    "\n",
    "result_xloop = foreach(i = 1:8, .combine=cbind) %dopar%   \n",
    "{\n",
    "  #set up simple linear model example\n",
    "  samp_inds = sample(nrow(X),replace=TRUE) #a Bootstrap sample with replacement \n",
    "  Xsamp     = X[samp_inds,]\n",
    "  Ysamp     = Y[samp_inds]\n",
    "  lm_result = lm(Ysamp~Xsamp)                   #run a linear model\n",
    "\n",
    "   \n",
    "  #Get memory size of objects and list them\n",
    "  my_obj_sizes       = sapply(ls(), function(n) object.size(get(n)), simplify = FALSE) \n",
    "  my_obj_sizes_list  = sapply(my_obj_sizes[order(-as.integer(my_obj_sizes))],  function(s) format(s, unit = 'auto')) \n",
    "\n",
    "  Sys.sleep(30)                  #Step 3 sleep for 30 seconds to watch memory usage in top                 \n",
    "                   \n",
    "  print(paste(\"this is loop\",i)) #NOTE: this won't print in a notebook\n",
    "  print(my_obj_sizes_list)       #  but it will in a native R session, \n",
    "                              \n",
    "  return(c(lm_result$coefficients[1:3],my_obj_sizes_list)) \n",
    "}\n",
    "\n",
    "looptime=proc.time() - ptm        #get timing info\n",
    "print(looptime)\n",
    "                 \n"
   ]
  },
  {
   "cell_type": "code",
   "execution_count": 5,
   "metadata": {
    "scrolled": true
   },
   "outputs": [
    {
     "data": {
      "text/html": [
       "<table>\n",
       "<caption>A matrix: 8 × 12 of type chr</caption>\n",
       "<thead>\n",
       "\t<tr><th></th><th scope=col>result.1</th><th scope=col>result.2</th><th scope=col>result.3</th><th scope=col>result.4</th><th scope=col>result.5</th><th scope=col>result.6</th><th scope=col>result.7</th><th scope=col>result.8</th><th scope=col>result.9</th><th scope=col>result.10</th><th scope=col>result.11</th><th scope=col>result.12</th></tr>\n",
       "</thead>\n",
       "<tbody>\n",
       "\t<tr><th scope=row>(Intercept)</th><td>0.000703033538039222</td><td>0.003488064023731</td><td>0.00232537031186325</td><td>0.00301507823122847</td><td>0.0023672385974055</td><td>0.00151333602817317</td><td>-0.00101122859390046</td><td>0.00179030385010776</td><td>0.00583356514200034</td><td>-0.000505413767917844</td><td>0.00350193422176346</td><td>0.00153378777518753</td></tr>\n",
       "\t<tr><th scope=row>Xsamp1</th><td>5.00127541163774    </td><td>4.99887205260897 </td><td>5.00269973478972   </td><td>5.00034738106235   </td><td>5.00202277403249  </td><td>5.00061215335507   </td><td>5.00218451211027    </td><td>5.00092287886726   </td><td>4.99839884278578   </td><td>5.00091096257051     </td><td>4.99941083729611   </td><td>4.9997682881237    </td></tr>\n",
       "\t<tr><th scope=row>Xsamp2</th><td>0.142023218424486   </td><td>0.142499000954943</td><td>0.141273688679932  </td><td>0.142313381190172  </td><td>0.13973499078905  </td><td>0.141087470854535  </td><td>0.142406475144391   </td><td>0.139868472489909  </td><td>0.140956603080435  </td><td>0.139833491246268    </td><td>0.141479938595117  </td><td>0.142802119104036  </td></tr>\n",
       "\t<tr><th scope=row>lm_result</th><td>307.9 Mb            </td><td>307.9 Mb         </td><td>307.9 Mb           </td><td>307.9 Mb           </td><td>307.9 Mb          </td><td>307.9 Mb           </td><td>307.9 Mb            </td><td>307.9 Mb           </td><td>307.9 Mb           </td><td>307.9 Mb             </td><td>307.9 Mb           </td><td>307.9 Mb           </td></tr>\n",
       "\t<tr><th scope=row>Xsamp</th><td>152.6 Mb            </td><td>152.6 Mb         </td><td>152.6 Mb           </td><td>152.6 Mb           </td><td>152.6 Mb          </td><td>152.6 Mb           </td><td>152.6 Mb            </td><td>152.6 Mb           </td><td>152.6 Mb           </td><td>152.6 Mb             </td><td>152.6 Mb           </td><td>152.6 Mb           </td></tr>\n",
       "\t<tr><th scope=row>Ysamp</th><td>78.2 Kb             </td><td>78.2 Kb          </td><td>78.2 Kb            </td><td>78.2 Kb            </td><td>78.2 Kb           </td><td>78.2 Kb            </td><td>78.2 Kb             </td><td>78.2 Kb            </td><td>78.2 Kb            </td><td>78.2 Kb              </td><td>78.2 Kb            </td><td>78.2 Kb            </td></tr>\n",
       "\t<tr><th scope=row>samp_inds</th><td>39.1 Kb             </td><td>39.1 Kb          </td><td>39.1 Kb            </td><td>39.1 Kb            </td><td>39.1 Kb           </td><td>39.1 Kb            </td><td>39.1 Kb             </td><td>39.1 Kb            </td><td>39.1 Kb            </td><td>39.1 Kb              </td><td>39.1 Kb            </td><td>39.1 Kb            </td></tr>\n",
       "\t<tr><th scope=row>i</th><td>56 bytes            </td><td>56 bytes         </td><td>56 bytes           </td><td>56 bytes           </td><td>56 bytes          </td><td>56 bytes           </td><td>56 bytes            </td><td>56 bytes           </td><td>56 bytes           </td><td>56 bytes             </td><td>56 bytes           </td><td>56 bytes           </td></tr>\n",
       "</tbody>\n",
       "</table>\n"
      ],
      "text/latex": [
       "A matrix: 8 × 12 of type chr\n",
       "\\begin{tabular}{r|llllllllllll}\n",
       "  & result.1 & result.2 & result.3 & result.4 & result.5 & result.6 & result.7 & result.8 & result.9 & result.10 & result.11 & result.12\\\\\n",
       "\\hline\n",
       "\t(Intercept) & 0.000703033538039222 & 0.003488064023731 & 0.00232537031186325 & 0.00301507823122847 & 0.0023672385974055 & 0.00151333602817317 & -0.00101122859390046 & 0.00179030385010776 & 0.00583356514200034 & -0.000505413767917844 & 0.00350193422176346 & 0.00153378777518753\\\\\n",
       "\tXsamp1 & 5.00127541163774     & 4.99887205260897  & 5.00269973478972    & 5.00034738106235    & 5.00202277403249   & 5.00061215335507    & 5.00218451211027     & 5.00092287886726    & 4.99839884278578    & 5.00091096257051      & 4.99941083729611    & 4.9997682881237    \\\\\n",
       "\tXsamp2 & 0.142023218424486    & 0.142499000954943 & 0.141273688679932   & 0.142313381190172   & 0.13973499078905   & 0.141087470854535   & 0.142406475144391    & 0.139868472489909   & 0.140956603080435   & 0.139833491246268     & 0.141479938595117   & 0.142802119104036  \\\\\n",
       "\tlm\\_result & 307.9 Mb             & 307.9 Mb          & 307.9 Mb            & 307.9 Mb            & 307.9 Mb           & 307.9 Mb            & 307.9 Mb             & 307.9 Mb            & 307.9 Mb            & 307.9 Mb              & 307.9 Mb            & 307.9 Mb           \\\\\n",
       "\tXsamp & 152.6 Mb             & 152.6 Mb          & 152.6 Mb            & 152.6 Mb            & 152.6 Mb           & 152.6 Mb            & 152.6 Mb             & 152.6 Mb            & 152.6 Mb            & 152.6 Mb              & 152.6 Mb            & 152.6 Mb           \\\\\n",
       "\tYsamp & 78.2 Kb              & 78.2 Kb           & 78.2 Kb             & 78.2 Kb             & 78.2 Kb            & 78.2 Kb             & 78.2 Kb              & 78.2 Kb             & 78.2 Kb             & 78.2 Kb               & 78.2 Kb             & 78.2 Kb            \\\\\n",
       "\tsamp\\_inds & 39.1 Kb              & 39.1 Kb           & 39.1 Kb             & 39.1 Kb             & 39.1 Kb            & 39.1 Kb             & 39.1 Kb              & 39.1 Kb             & 39.1 Kb             & 39.1 Kb               & 39.1 Kb             & 39.1 Kb            \\\\\n",
       "\ti & 56 bytes             & 56 bytes          & 56 bytes            & 56 bytes            & 56 bytes           & 56 bytes            & 56 bytes             & 56 bytes            & 56 bytes            & 56 bytes              & 56 bytes            & 56 bytes           \\\\\n",
       "\\end{tabular}\n"
      ],
      "text/markdown": [
       "\n",
       "A matrix: 8 × 12 of type chr\n",
       "\n",
       "| <!--/--> | result.1 | result.2 | result.3 | result.4 | result.5 | result.6 | result.7 | result.8 | result.9 | result.10 | result.11 | result.12 |\n",
       "|---|---|---|---|---|---|---|---|---|---|---|---|---|\n",
       "| (Intercept) | 0.000703033538039222 | 0.003488064023731 | 0.00232537031186325 | 0.00301507823122847 | 0.0023672385974055 | 0.00151333602817317 | -0.00101122859390046 | 0.00179030385010776 | 0.00583356514200034 | -0.000505413767917844 | 0.00350193422176346 | 0.00153378777518753 |\n",
       "| Xsamp1 | 5.00127541163774     | 4.99887205260897  | 5.00269973478972    | 5.00034738106235    | 5.00202277403249   | 5.00061215335507    | 5.00218451211027     | 5.00092287886726    | 4.99839884278578    | 5.00091096257051      | 4.99941083729611    | 4.9997682881237     |\n",
       "| Xsamp2 | 0.142023218424486    | 0.142499000954943 | 0.141273688679932   | 0.142313381190172   | 0.13973499078905   | 0.141087470854535   | 0.142406475144391    | 0.139868472489909   | 0.140956603080435   | 0.139833491246268     | 0.141479938595117   | 0.142802119104036   |\n",
       "| lm_result | 307.9 Mb             | 307.9 Mb          | 307.9 Mb            | 307.9 Mb            | 307.9 Mb           | 307.9 Mb            | 307.9 Mb             | 307.9 Mb            | 307.9 Mb            | 307.9 Mb              | 307.9 Mb            | 307.9 Mb            |\n",
       "| Xsamp | 152.6 Mb             | 152.6 Mb          | 152.6 Mb            | 152.6 Mb            | 152.6 Mb           | 152.6 Mb            | 152.6 Mb             | 152.6 Mb            | 152.6 Mb            | 152.6 Mb              | 152.6 Mb            | 152.6 Mb            |\n",
       "| Ysamp | 78.2 Kb              | 78.2 Kb           | 78.2 Kb             | 78.2 Kb             | 78.2 Kb            | 78.2 Kb             | 78.2 Kb              | 78.2 Kb             | 78.2 Kb             | 78.2 Kb               | 78.2 Kb             | 78.2 Kb             |\n",
       "| samp_inds | 39.1 Kb              | 39.1 Kb           | 39.1 Kb             | 39.1 Kb             | 39.1 Kb            | 39.1 Kb             | 39.1 Kb              | 39.1 Kb             | 39.1 Kb             | 39.1 Kb               | 39.1 Kb             | 39.1 Kb             |\n",
       "| i | 56 bytes             | 56 bytes          | 56 bytes            | 56 bytes            | 56 bytes           | 56 bytes            | 56 bytes             | 56 bytes            | 56 bytes            | 56 bytes              | 56 bytes            | 56 bytes            |\n",
       "\n"
      ],
      "text/plain": [
       "            result.1             result.2          result.3           \n",
       "(Intercept) 0.000703033538039222 0.003488064023731 0.00232537031186325\n",
       "Xsamp1      5.00127541163774     4.99887205260897  5.00269973478972   \n",
       "Xsamp2      0.142023218424486    0.142499000954943 0.141273688679932  \n",
       "lm_result   307.9 Mb             307.9 Mb          307.9 Mb           \n",
       "Xsamp       152.6 Mb             152.6 Mb          152.6 Mb           \n",
       "Ysamp       78.2 Kb              78.2 Kb           78.2 Kb            \n",
       "samp_inds   39.1 Kb              39.1 Kb           39.1 Kb            \n",
       "i           56 bytes             56 bytes          56 bytes           \n",
       "            result.4            result.5           result.6           \n",
       "(Intercept) 0.00301507823122847 0.0023672385974055 0.00151333602817317\n",
       "Xsamp1      5.00034738106235    5.00202277403249   5.00061215335507   \n",
       "Xsamp2      0.142313381190172   0.13973499078905   0.141087470854535  \n",
       "lm_result   307.9 Mb            307.9 Mb           307.9 Mb           \n",
       "Xsamp       152.6 Mb            152.6 Mb           152.6 Mb           \n",
       "Ysamp       78.2 Kb             78.2 Kb            78.2 Kb            \n",
       "samp_inds   39.1 Kb             39.1 Kb            39.1 Kb            \n",
       "i           56 bytes            56 bytes           56 bytes           \n",
       "            result.7             result.8            result.9           \n",
       "(Intercept) -0.00101122859390046 0.00179030385010776 0.00583356514200034\n",
       "Xsamp1      5.00218451211027     5.00092287886726    4.99839884278578   \n",
       "Xsamp2      0.142406475144391    0.139868472489909   0.140956603080435  \n",
       "lm_result   307.9 Mb             307.9 Mb            307.9 Mb           \n",
       "Xsamp       152.6 Mb             152.6 Mb            152.6 Mb           \n",
       "Ysamp       78.2 Kb              78.2 Kb             78.2 Kb            \n",
       "samp_inds   39.1 Kb              39.1 Kb             39.1 Kb            \n",
       "i           56 bytes             56 bytes            56 bytes           \n",
       "            result.10             result.11           result.12          \n",
       "(Intercept) -0.000505413767917844 0.00350193422176346 0.00153378777518753\n",
       "Xsamp1      5.00091096257051      4.99941083729611    4.9997682881237    \n",
       "Xsamp2      0.139833491246268     0.141479938595117   0.142802119104036  \n",
       "lm_result   307.9 Mb              307.9 Mb            307.9 Mb           \n",
       "Xsamp       152.6 Mb              152.6 Mb            152.6 Mb           \n",
       "Ysamp       78.2 Kb               78.2 Kb             78.2 Kb            \n",
       "samp_inds   39.1 Kb               39.1 Kb             39.1 Kb            \n",
       "i           56 bytes              56 bytes            56 bytes           "
      ]
     },
     "metadata": {},
     "output_type": "display_data"
    }
   ],
   "source": [
    "#Q: What is value of result_xloop?\n",
    "result_xloop\n",
    "                   \n"
   ]
  },
  {
   "cell_type": "code",
   "execution_count": null,
   "metadata": {},
   "outputs": [],
   "source": []
  }
 ],
 "metadata": {
  "kernelspec": {
   "display_name": "R",
   "language": "R",
   "name": "ir"
  },
  "language_info": {
   "codemirror_mode": "r",
   "file_extension": ".r",
   "mimetype": "text/x-r-source",
   "name": "R",
   "pygments_lexer": "r",
   "version": "3.5.1"
  }
 },
 "nbformat": 4,
 "nbformat_minor": 2
}
